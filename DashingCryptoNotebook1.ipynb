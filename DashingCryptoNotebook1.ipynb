{
 "cells": [
  {
   "cell_type": "code",
   "execution_count": 456,
   "id": "2ab062eb-d6a0-44f9-8655-7f806b5559a7",
   "metadata": {},
   "outputs": [],
   "source": [
    "# Imports\n",
    "import os\n",
    "import requests\n",
    "import pandas as pd\n",
    "import numpy as np\n",
    "import datetime as dt\n",
    "import seaborn as sns\n",
    "import hvplot.pandas\n",
    "from dotenv import load_dotenv\n",
    "import alpaca_trade_api as tradeapi\n",
    "import quantstats as qs\n",
    "%matplotlib inline"
   ]
  },
  {
   "cell_type": "code",
   "execution_count": 457,
   "id": "0956e493",
   "metadata": {},
   "outputs": [],
   "source": [
    "# Creating Charts from a quantstats library\n",
    "# From library extend pandas functionality with metrics, etc.\n",
    "qs.extend_pandas()\n",
    "\n",
    "# fetch the daily returns for a stock\n",
    "stock = qs.utils.download_returns('BTC')\n",
    "\n",
    "# show sharpe ratio\n",
    "qs.stats.sharpe(stock)\n",
    "\n",
    "# or using extend_pandas()\n",
    "stock.sharpe()\n",
    "\n",
    "# Plot \n",
    "qs.plots.snapshot(stock, title='BTC Performance')"
   ]
  },
  {
   "cell_type": "code",
   "execution_count": null,
   "id": "6dfc9a1e",
   "metadata": {},
   "outputs": [],
   "source": [
    "# Create 6 charts from the quantstats\n",
    "qs.plots.yearly_returns(stock)\n",
    "qs.plots.monthly_heatmap(stock)\n",
    "qs.plots.daily_returns(stock)\n",
    "qs.plots.rolling_sharpe(stock)\n",
    "qs.plots.drawdown(stock)\n",
    "qs.plots.log_returns(stock)\n"
   ]
  },
  {
   "cell_type": "code",
   "execution_count": null,
   "id": "89621615-5c6d-4a45-ba0c-fe3a908d6db1",
   "metadata": {},
   "outputs": [],
   "source": [
    "# Load .env enviroment variables\n",
    "load_dotenv()"
   ]
  },
  {
   "cell_type": "code",
   "execution_count": null,
   "id": "c95e0c0a-0edf-4fed-959f-a16c34a53730",
   "metadata": {},
   "outputs": [],
   "source": [
    "# Set Alpaca API key and secret\n",
    "alpaca_api_key = os.getenv(\"ALPACA_API_KEY\")\n",
    "alpaca_secret_key = os.getenv(\"ALPACA_SECRET_KEY\")\n",
    "\n",
    "# Create the Alpaca API object\n",
    "alpaca = tradeapi.REST(\n",
    "    alpaca_api_key,\n",
    "    alpaca_secret_key,\n",
    "    api_version=\"v2\")"
   ]
  },
  {
   "cell_type": "code",
   "execution_count": null,
   "id": "74889512-da8e-4ddf-9628-094c25234783",
   "metadata": {},
   "outputs": [],
   "source": [
    "# Pulling Crypto Information and store in datframe\n",
    "# Format current date as ISO format\n",
    "today = pd.Timestamp(\"2021-1-1\", tz=\"America/New_York\").isoformat()\n",
    "\n",
    "# Set the tickers BTCUSD (bitcoin), ETHUSD (Ethereum), and TRXUSD (Tron)\n",
    "tickers = [\"BTCUSD\", \"ETHUSD\",\"TRXUSD\"]\n",
    "\n",
    "# Set timeframe to \"1Day\" for Alpaca API\n",
    "timeframe = \"1Day\"\n",
    "\n",
    "# Get current closing prices for crypto\n",
    "\n",
    "df_crypto = alpaca.get_crypto_bars(\n",
    "    tickers,\n",
    "    timeframe,\n",
    "    start = today\n",
    ").df\n"
   ]
  },
  {
   "cell_type": "code",
   "execution_count": null,
   "id": "b058722f-1c03-4382-9041-a83d63fabca9",
   "metadata": {},
   "outputs": [],
   "source": [
    "# Reorganize the crypto DataFrame and clean up data\n",
    "# \n",
    "BTC = df_crypto[df_crypto['symbol']=='BTCUSD'].drop('symbol', axis=1)\n",
    "BTC['BTC Return'] = BTC['close'].pct_change()\n",
    "BTC = BTC.drop(columns= ['exchange','open','volume', 'trade_count', 'vwap'])\n",
    "\n",
    "ETH = df_crypto[df_crypto['symbol']=='ETHUSD'].drop('symbol', axis=1)\n",
    "ETH['ETH Return'] = ETH['close'].pct_change()\n",
    "ETH = ETH.drop(columns= ['exchange','open','volume', 'trade_count', 'vwap'])\n",
    "\n",
    "TRX = df_crypto[df_crypto['symbol']=='TRXUSD'].drop('symbol', axis=1)\n",
    "TRX['TRX Return'] = TRX['close'].pct_change()\n",
    "TRX = TRX.drop(columns= ['exchange','open','volume', 'trade_count', 'vwap'])\n",
    "\n",
    "# Concatenate the ticker DataFrames\n",
    "df_crypto = pd.concat([BTC, ETH, TRX],axis=1, keys=['BTC','ETH', 'TRX']).dropna()\n",
    "\n",
    "df_crypto.head()"
   ]
  },
  {
   "cell_type": "code",
   "execution_count": null,
   "id": "25276dc3",
   "metadata": {},
   "outputs": [],
   "source": [
    "# Pulling Stock Information and store in datframe\n",
    "# Format current date as ISO format\n",
    "today = pd.Timestamp(\"2021-1-24\", tz=\"America/New_York\").isoformat()\n",
    "\n",
    "# Set the stock_tickers to TSLA , GME, and SPY\n",
    "stock_tickers = [\"TSLA\", \"GME\",\"SPY\"]\n",
    "\n",
    "# Set timeframe to \"1Day\" for Alpaca API\n",
    "timeframe = \"1Day\"\n",
    "\n",
    "# Get current closing prices for SPY and GOOGL\n",
    "# (use a limit=1000 parameter to call the most recent 1000 days of data)\n",
    "df_stock = alpaca.get_bars(\n",
    "    stock_tickers,\n",
    "    timeframe,\n",
    "    start = today\n",
    ").df"
   ]
  },
  {
   "cell_type": "code",
   "execution_count": null,
   "id": "6a321d46",
   "metadata": {},
   "outputs": [],
   "source": [
    "# Reorganize the stocd DataFrame\n",
    "# Separate ticker data\n",
    "TSLA = df_stock[df_stock['symbol']=='TSLA'].drop('symbol', axis=1)\n",
    "TSLA['TSLA Return'] = TSLA['close'].pct_change().dropna()\n",
    "TSLA = TSLA.drop(columns= ['open','volume', 'trade_count', 'vwap'])\n",
    "\n",
    "GME = df_stock [df_stock['symbol']=='GME'].drop('symbol', axis=1)\n",
    "GME['GME Return'] = GME['close'].pct_change().dropna()\n",
    "GME = GME.drop(columns= ['open','volume', 'trade_count', 'vwap'])\n",
    "\n",
    "SPY = df_stock [df_stock['symbol']=='SPY'].drop('symbol', axis=1)\n",
    "SPY['SPY Return'] = SPY['close'].pct_change().dropna()\n",
    "SPY = SPY.drop(columns= ['open','volume', 'trade_count', 'vwap'])\n",
    "\n",
    "# Concatenate the ticker DataFrames\n",
    "df_stock = pd.concat([TSLA, GME, SPY],axis=1, keys=['TSLA','GME', 'SPY']).dropna()\n",
    "df_stock.head()"
   ]
  },
  {
   "cell_type": "code",
   "execution_count": null,
   "id": "747d0287",
   "metadata": {},
   "outputs": [],
   "source": [
    "# Drawdown GME chart\n",
    "\n",
    "# Trailing 252 trading day window\n",
    "window = 252\n",
    "\n",
    "# Calculate the max drawdown in the past window days for each day in the series.\n",
    "# Use min_periods=1 if you want to let the first 252 days data have an expanding window\n",
    "roll_max = df_stock['GME']['close'].rolling(window, min_periods=1).max()\n",
    "daily_drawdown = df_stock['GME']['close']/roll_max - 1.0\n",
    "\n",
    "# Next we calculate the minimum (negative) daily drawdown in that window.\n",
    "# Again, use min_periods=1 if you want to allow the expanding window\n",
    "max_daily_drawdown = daily_drawdown.rolling(window, min_periods=1).min()\n",
    "\n",
    "# Plot the results\n",
    "d = daily_drawdown.hvplot(legend = False, hover_color = \"yellow\")\n",
    "md = max_daily_drawdown.hvplot(title = \"GME Max Daily Drawdown\", legend= False, hover_color = \"green\")\n",
    "\n",
    "#overlay both daily drawdown and max daily drawdown\n",
    "d*md"
   ]
  },
  {
   "cell_type": "code",
   "execution_count": null,
   "id": "3d9fdb0e-eb0c-4288-bd86-5d3436e91b54",
   "metadata": {},
   "outputs": [],
   "source": [
    "#Combine crypto and stock returns\n",
    "df_crypto_return =  pd.concat([df_crypto['BTC']['BTC Return'], df_crypto['ETH']['ETH Return'],df_crypto['TRX']['TRX Return']], axis=1)\n",
    "df_stock_return = pd.concat([df_stock['TSLA']['TSLA Return'], df_stock['GME']['GME Return'], df_stock['SPY']['SPY Return']], axis =1)\n",
    "\n",
    "# Calculate the log return\n",
    "df_log_return = np.log(1 + df_crypto_return)\n",
    "df_log_return_stock = np.log(1 + df_stock_return)\n",
    "\n",
    "# overlay the two charts\n",
    "crypto_log = df_log_return.hvplot(title = \"Log Daily Return\")\n",
    "stock_log = df_log_return_stock.hvplot()\n",
    "stock_log * crypto_log"
   ]
  },
  {
   "cell_type": "code",
   "execution_count": null,
   "id": "0ac3c83a-87f0-4e59-a7ea-297028583927",
   "metadata": {},
   "outputs": [],
   "source": [
    "# Display Crypto and Stock\n",
    "display(df_crypto_return.tail())\n",
    "display(df_stock_return.tail())\n"
   ]
  },
  {
   "cell_type": "code",
   "execution_count": null,
   "id": "f3d67961-44a9-42fd-b460-33ac226e694d",
   "metadata": {},
   "outputs": [],
   "source": [
    "# Plot the daily returns\n",
    "c = df_crypto_return.hvplot(kind=\"line\", title = \"Daily Returns\")\n",
    "s = df_stock_return.hvplot(kind=\"line\")\n",
    "c * s"
   ]
  },
  {
   "cell_type": "code",
   "execution_count": null,
   "id": "c2ff217a-f0ea-4aa5-9f46-c9bf743ea0ef",
   "metadata": {},
   "outputs": [],
   "source": [
    "#Calculate cumulative returns for crypto and stocks\n",
    "df_cumulative_returns = (1 + df_crypto_return).cumprod()\n",
    "df_cumulative_stock_returns = (1 + df_stock_return).cumprod()\n",
    "\n",
    "\n",
    "# Plot the chart\n",
    "c = df_cumulative_returns.hvplot(title = \"Cumulative Returns\")\n",
    "s = df_cumulative_stock_returns.hvplot()\n",
    "c*s"
   ]
  },
  {
   "cell_type": "code",
   "execution_count": null,
   "id": "c6760740-86a5-47d3-919f-182e25fc0348",
   "metadata": {},
   "outputs": [],
   "source": [
    "#Plot box chart\n",
    "c = df_crypto_return.hvplot.box( title = \"Daily Return Box\", legend = False)\n",
    "s = df_stock_return.hvplot.box(legend = False)\n",
    "c*s"
   ]
  },
  {
   "cell_type": "code",
   "execution_count": null,
   "id": "8826175c-9c1d-4f81-bbfc-965538f4fa26",
   "metadata": {},
   "outputs": [],
   "source": [
    "#calculate STDs\n",
    "all_stds = df_crypto_return.std()\n",
    "stock_stds = df_stock_return.std()\n",
    "all_stds = pd.concat([all_stds, stock_stds], axis=0)\n",
    "all_stds.hvplot.bar(legend = False, title = \"STDs\", hover_fill_color= \"purple\")"
   ]
  },
  {
   "cell_type": "code",
   "execution_count": null,
   "id": "c082f06a-c8bf-4c22-a668-8546e3dfb928",
   "metadata": {},
   "outputs": [],
   "source": [
    "#Volatity\n",
    "volatility = all_stds * np.sqrt(365)\n",
    "volatility.hvplot.line(title = \"Volatility\")"
   ]
  },
  {
   "cell_type": "code",
   "execution_count": null,
   "id": "53b9f8fd-3559-4030-9dc6-0eaf35dfde8c",
   "metadata": {},
   "outputs": [],
   "source": [
    "#Plot rolling window\n",
    "rolling_21 = df_crypto_return.rolling(window=21).std().plot(title = \"Crypto Rolling 21 Days Return\")"
   ]
  },
  {
   "cell_type": "code",
   "execution_count": null,
   "id": "b2edab37",
   "metadata": {},
   "outputs": [],
   "source": [
    "#Plot rolling\n",
    "rolling_21 = df_stock_return.rolling(window=21).std().plot(title = \"Stock Rolling 21 Days Return\")"
   ]
  },
  {
   "cell_type": "code",
   "execution_count": null,
   "id": "9049ac52-7fed-4a81-9d5e-9bfcec8b1a0d",
   "metadata": {},
   "outputs": [],
   "source": [
    "#Calculate correlation and plot heatmap\n",
    "\n",
    "#Aggregate the timestamps to 1D for all the crypto\n",
    "b = df_crypto['BTC'].resample('1D')['BTC Return'].agg(['first'])\n",
    "e = df_crypto['ETH'].resample('1D')['ETH Return'].agg(['first'])\n",
    "t = df_crypto['TRX'].resample('1D')['TRX Return'].agg(['first'])\n",
    "\n",
    "# Rename all of the first columns\n",
    "b.rename(columns= {'first':'BTC Return'}, inplace = True)\n",
    "e.rename(columns= {'first':'ETH Return'}, inplace = True)\n",
    "t.rename(columns= {'first':'TRX Return'}, inplace = True)\n",
    "\n",
    "# Combine the BTC/ETH/TRX Return and reset index to date\n",
    "df_bet = pd.concat([b, e, t], axis=1)\n",
    "df_bet.index=df_bet.index.date\n",
    "\n",
    "# Copy df_stock_return and reset index to date\n",
    "df0 = df_stock_return\n",
    "df0.index = df_stock_return.index.date\n",
    "\n",
    "# Combine both Crypto and Stock Returns\n",
    "df_cor = pd.concat([df0, df0], axis=1).dropna()\n",
    "\n",
    "# Plot correlations\n",
    "display(sns.heatmap(df_cor.corr(), cmap =\"YlGnBu\", linewidths = 0.1))\n"
   ]
  },
  {
   "cell_type": "code",
   "execution_count": null,
   "id": "cebd2fb4-a9f5-40eb-93c9-32b24c34ca8d",
   "metadata": {},
   "outputs": [],
   "source": [
    "#Calculate GME Rolling Covariance vs SP500\n",
    "covariance = df_stock_return['GME Return'].cov(df_stock_return['SPY Return'])\n",
    "\n",
    "# Calculate variance and beta\n",
    "variance = df_stock_return['SPY Return'].var()\n",
    "GME_beta = covariance / variance\n",
    "\n",
    "# plot rolling covariance vs. SP500\n",
    "rolling_covariance = df_stock_return['GME Return'].rolling(window=21).cov(df_stock_return['SPY Return'])\n",
    "rolling_covariance.plot(title=\"GME 21-Day Rolling Covariance vs SP500\")"
   ]
  },
  {
   "cell_type": "code",
   "execution_count": null,
   "id": "dc96e108-6d58-48dc-a28a-cf45b68b5ec9",
   "metadata": {},
   "outputs": [],
   "source": [
    "# Calculate the covariance for TRX and ETH\n",
    "covariance2 = df_crypto_return['TRX Return'].cov(df_crypto_return['ETH Return'])\n",
    "\n",
    "variance2 = df_crypto_return['ETH Return'].var()\n",
    "TRX_beta2 = covariance2 / variance2\n",
    "rolling_covariance2 = df_crypto_return['TRX Return'].rolling(window=21)\n",
    "\n",
    "rolling_covariance2 = df_crypto_return['TRX Return'].rolling(window=21).cov(df_crypto_return['ETH Return'])\n",
    "\n",
    "#Plot the chart\n",
    "rolling_covariance2.plot(title=\"TRX 21-Day Rolling Covariance vs ETH\")"
   ]
  },
  {
   "cell_type": "code",
   "execution_count": null,
   "id": "c16b186f-5d57-4948-a6e6-6cfa88797ef0",
   "metadata": {},
   "outputs": [],
   "source": [
    "#Calculate ewm and plot it\n",
    "ewm = df_crypto_return.ewm(halflife=21).std().dropna()\n",
    "ewm.plot()"
   ]
  },
  {
   "cell_type": "code",
   "execution_count": null,
   "id": "6be84f16",
   "metadata": {},
   "outputs": [],
   "source": [
    "# Create rolling sharpe function\n",
    "def my_rolling_sharpe(y):\n",
    "    return np.sqrt(126) * (y.mean() / y.std()) # 21 days per month X 6 months = 126\n",
    "\n",
    "# Create new dataframe\n",
    "df_c_return = pd.DataFrame()\n",
    "\n",
    "# Call rolling sharpe function\n",
    "df_c_return['Rolling Sharpe'] = df_crypto_return['BTC Return'].rolling('180d').apply(my_rolling_sharpe)\n",
    "\n",
    "# Plot chart\n",
    "df_c_return.plot(y=['Rolling Sharpe'], linewidth=0.5, title = \"BTC Rolling Sharpe - 6 Months\")"
   ]
  },
  {
   "cell_type": "code",
   "execution_count": null,
   "id": "ebefa0ca",
   "metadata": {},
   "outputs": [],
   "source": [
    "# create rolling sharpe function\n",
    "def my_rolling_sharpe(y):\n",
    "    return np.sqrt(126) * (y.mean() / y.std()) # 21 days per month X 6 months = 126\n",
    "\n",
    "# create new dataframe\n",
    "df_e_return = pd.DataFrame()\n",
    "\n",
    "# Call rolling sharpe function\n",
    "df_e_return['Rolling Sharpe'] = df_crypto_return['ETH Return'].rolling('180d').apply(my_rolling_sharpe)\n",
    "\n",
    "# Plot chart\n",
    "df_e_return.plot(y=['Rolling Sharpe'], linewidth=0.5, title = \"ETH Rolling Sharpe - 6 Months\")"
   ]
  },
  {
   "cell_type": "code",
   "execution_count": null,
   "id": "2d181f87",
   "metadata": {},
   "outputs": [],
   "source": [
    "# Calculate the Sharpe ratios\n",
    "sharpe_crypto_ratios = (df_crypto_return.mean() * 252) / (df_crypto_return.std() * np.sqrt(252))\n",
    "sharpe_stock_ratios = (df_stock_return.mean() * 252) / (df_stock_return.std() * np.sqrt(252))\n",
    "\n",
    "\n",
    "# Plot Sharpe ratios for crypto and stocks\n",
    "c = sharpe_crypto_ratios.hvplot.bar(title = \"Sharpe Ratios\", hover_fill_color=\"orange\", legend = False)\n",
    "s = sharpe_stock_ratios.hvplot.bar(hover_color= \"orange\", legend= False)\n",
    "c*s"
   ]
  },
  {
   "cell_type": "code",
   "execution_count": null,
   "id": "8b99b05a",
   "metadata": {},
   "outputs": [],
   "source": [
    "# Monthly Returns for crypto\n",
    "crypto_monthly_returns = df_crypto['ETH'].resample('1M')['close'].agg(['first']).pct_change().dropna()\n",
    "\n",
    "# Convert to Dataframe\n",
    "crypto_monthly_returns = pd.DataFrame(crypto_monthly_returns)\n",
    "crypto_monthly_returns.index = crypto_monthly_returns.index.date\n",
    "\n",
    "# Create year and month columns\n",
    "crypto_monthly_returns['year'] = pd.DatetimeIndex(crypto_monthly_returns.index).year\n",
    "crypto_monthly_returns['month'] = pd.DatetimeIndex(crypto_monthly_returns.index).month_name().astype(str)\n",
    "\n",
    "# Convert Dataframe to a pivot table\n",
    "df1 = crypto_monthly_returns.pivot(\"year\", \"month\", \"first\")\n",
    "df1= df1.fillna(0.00)\n",
    "\n",
    "# Draw a heatmap with the numeric values in each cell\n",
    "f, ax = plt.subplots(figsize=(9, 6))\n",
    "sns.heatmap(df1, annot=True, fmt=\".1g\", linewidths=.5, ax=ax, cmap='RdYlGn')\n",
    "ax.set_title('ETH Monthly Returns (% Change)')\n"
   ]
  },
  {
   "cell_type": "code",
   "execution_count": null,
   "id": "e87a7a8c",
   "metadata": {},
   "outputs": [],
   "source": [
    "# Daily and Yearly Returns for Stocks\n",
    "data_daily_returns = df_stock['SPY']['close'].pct_change()\n",
    "data_yearly_returns =df_stock['TSLA']['close'].resample('A').ffill().pct_change().dropna()\n",
    "\n",
    "# Monthly Returns for stocks\n",
    "data_monthly_returns = df_stock['GME']['close'].resample('M').ffill().pct_change().dropna()\n",
    "\n",
    "\n",
    "# Convert to Dataframe\n",
    "data_monthly_returns = pd.DataFrame(data_monthly_returns)\n",
    "data_monthly_returns.index = data_monthly_returns.index.date\n",
    "\n",
    "# Create year and month columns\n",
    "data_monthly_returns['year'] = pd.DatetimeIndex(data_monthly_returns.index).year\n",
    "data_monthly_returns['month'] = pd.DatetimeIndex(data_monthly_returns.index).month_name().astype(str)\n",
    "\n",
    "# Convert Dataframe to a pivot table\n",
    "df1 = data_monthly_returns.pivot(\"year\", \"month\", \"close\")\n",
    "df1= df1.fillna(0.00)\n",
    "\n",
    "# Draw a heatmap with the numeric values in each cell\n",
    "f, ax = plt.subplots(figsize=(9, 6))\n",
    "sns.heatmap(df1, annot=True, fmt=\".1g\", linewidths=.5, ax=ax, cmap='RdYlGn')\n",
    "ax.set_title('GME Monthly Returns (% Change)')\n",
    "\n"
   ]
  },
  {
   "cell_type": "code",
   "execution_count": null,
   "id": "64a572d1",
   "metadata": {},
   "outputs": [],
   "source": [
    "# Plot the yearly % Change\n",
    "\n",
    "# Yearly Returns for crypto\n",
    "crypto_yearly_returns =df_crypto['TRX'].resample('AS-NOV')['close'].agg(['first']).pct_change().dropna()\n",
    "\n",
    "crypto_yearly_returns.hvplot.bar(title = \"TRX Yearly % Change as of November\", ylabel= \"% Change\", xlabel= \"Year\", hover_fill_color= \"green\")\n"
   ]
  },
  {
   "cell_type": "code",
   "execution_count": null,
   "id": "9d57051c",
   "metadata": {},
   "outputs": [],
   "source": []
  }
 ],
 "metadata": {
  "kernelspec": {
   "display_name": "Python 3.7.13 ('alpacaenv')",
   "language": "python",
   "name": "python3"
  },
  "language_info": {
   "codemirror_mode": {
    "name": "ipython",
    "version": 3
   },
   "file_extension": ".py",
   "mimetype": "text/x-python",
   "name": "python",
   "nbconvert_exporter": "python",
   "pygments_lexer": "ipython3",
   "version": "3.7.13"
  },
  "vscode": {
   "interpreter": {
    "hash": "65e86de9ad63447e1ffaa4aa3f17db0e100dd4edc2a04c86c4d2af863e6be4fe"
   }
  }
 },
 "nbformat": 4,
 "nbformat_minor": 5
}
