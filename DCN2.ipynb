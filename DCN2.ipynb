{
 "cells": [
  {
   "cell_type": "code",
   "execution_count": null,
   "id": "13c1a17f-2285-482d-83a4-5bf7a14c3d82",
   "metadata": {},
   "outputs": [],
   "source": [
    "#Can we outperform the S&P 500 by buying cryptos that are more volatile than it?\n",
    "\n",
    "\n"
   ]
  },
  {
   "cell_type": "code",
   "execution_count": null,
   "id": "4ad2318c-70d0-4d19-9024-a0e4845c70a0",
   "metadata": {},
   "outputs": [],
   "source": [
    "#How would our strategy have done in the past year?"
   ]
  },
  {
   "cell_type": "code",
   "execution_count": null,
   "id": "318c2388-4103-4c27-9715-77ea3e916233",
   "metadata": {},
   "outputs": [],
   "source": [
    "#Is it always better to buy higher volatility assets? "
   ]
  }
 ],
 "metadata": {
  "kernelspec": {
   "display_name": "Python 3 (ipykernel)",
   "language": "python",
   "name": "python3"
  },
  "language_info": {
   "codemirror_mode": {
    "name": "ipython",
    "version": 3
   },
   "file_extension": ".py",
   "mimetype": "text/x-python",
   "name": "python",
   "nbconvert_exporter": "python",
   "pygments_lexer": "ipython3",
   "version": "3.7.13"
  }
 },
 "nbformat": 4,
 "nbformat_minor": 5
}
